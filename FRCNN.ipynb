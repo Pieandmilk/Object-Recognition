{
 "cells": [
  {
   "cell_type": "code",
   "execution_count": null,
   "metadata": {},
   "outputs": [],
   "source": [
    "import tensorflow as tf\n",
    "import pandas as pd\n",
    "import os\n",
    "from tensorflow.keras.applications import ResNet50\n",
    "from tensorflow.keras.layers import Dense, Flatten\n",
    "from tensorflow.keras.models import Model\n",
    "from sklearn.model_selection import train_test_split"
   ]
  },
  {
   "cell_type": "code",
   "execution_count": null,
   "metadata": {},
   "outputs": [],
   "source": [
    "# Load and preprocess dataset\n",
    "def load_annotations(csv_file, image_dir):\n",
    "    data = pd.read_csv(csv_file)\n",
    "    data['image_path'] = data['filename'].apply(lambda x: os.path.join(image_dir, x))\n",
    "    return data"
   ]
  },
  {
   "cell_type": "code",
   "execution_count": null,
   "metadata": {},
   "outputs": [],
   "source": [
    "# Prepare TensorFlow dataset\n",
    "def preprocess_data(df):\n",
    "    images = []\n",
    "    labels = []\n",
    "    bboxes = []\n",
    "\n",
    "    for idx, row in df.iterrows():\n",
    "        image = tf.image.decode_jpeg(tf.io.read_file(row['image_path']))\n",
    "        image = tf.image.resize(image, (224, 224))\n",
    "        images.append(image)\n",
    "\n",
    "        labels.append(row['class'])\n",
    "        bbox = [\n",
    "            row['xmin'] / row['width'],\n",
    "            row['ymin'] / row['height'],\n",
    "            row['xmax'] / row['width'],\n",
    "            row['ymax'] / row['height'],\n",
    "        ]\n",
    "        bboxes.append(bbox)\n",
    "\n",
    "    images = tf.stack(images)\n",
    "    labels = tf.convert_to_tensor(labels)\n",
    "    bboxes = tf.convert_to_tensor(bboxes)\n",
    "\n",
    "    return images, labels, bboxes"
   ]
  },
  {
   "cell_type": "code",
   "execution_count": null,
   "metadata": {},
   "outputs": [],
   "source": [
    "# Build Fast R-CNN Model\n",
    "def build_model(num_classes):\n",
    "    base_model = ResNet50(weights='imagenet', include_top=False, input_shape=(224, 224, 3))\n",
    "    x = Flatten()(base_model.output)\n",
    "    classification_output = Dense(num_classes, activation='softmax', name='classification')(x)\n",
    "    bbox_output = Dense(4, activation='sigmoid', name='bbox_regression')(x)\n",
    "\n",
    "    model = Model(inputs=base_model.input, outputs=[classification_output, bbox_output])\n",
    "    return model"
   ]
  },
  {
   "cell_type": "code",
   "execution_count": null,
   "metadata": {},
   "outputs": [],
   "source": [
    "# Training Setup\n",
    "def train_model(train_data, val_data, num_classes, epochs=10):\n",
    "    train_images, train_labels, train_bboxes = train_data\n",
    "    val_images, val_labels, val_bboxes = val_data\n",
    "\n",
    "    model = build_model(num_classes)\n",
    "\n",
    "    model.compile(\n",
    "        optimizer='adam',\n",
    "        loss={\n",
    "            'classification': 'sparse_categorical_crossentropy',\n",
    "            'bbox_regression': 'mse',\n",
    "        },\n",
    "        metrics={\n",
    "            'classification': 'accuracy',\n",
    "            'bbox_regression': 'mae',\n",
    "        },\n",
    "    )\n",
    "\n",
    "    model.fit(\n",
    "        x=train_images,\n",
    "        y={'classification': train_labels, 'bbox_regression': train_bboxes},\n",
    "        validation_data=(\n",
    "            val_images,\n",
    "            {'classification': val_labels, 'bbox_regression': val_bboxes},\n",
    "        ),\n",
    "        epochs=epochs,\n",
    "        batch_size=32,\n",
    "    )\n",
    "\n",
    "    return model"
   ]
  },
  {
   "cell_type": "code",
   "execution_count": null,
   "metadata": {},
   "outputs": [],
   "source": [
    "# Paths to your dataset\n",
    "train_csv = \"path_to_train_annotations.csv\"\n",
    "val_csv = \"path_to_val_annotations.csv\"\n",
    "test_csv = \"path_to_test_annotations.csv\"\n",
    "train_image_dir = \"path_to_train_images_directory\"\n",
    "val_image_dir = \"path_to_val_images_directory\"\n",
    "test_image_dir = \"path_to_test_images_directory\""
   ]
  },
  {
   "cell_type": "code",
   "execution_count": null,
   "metadata": {},
   "outputs": [],
   "source": [
    "# Load datasets\n",
    "train_df = load_annotations(train_csv, train_image_dir)\n",
    "val_df = load_annotations(val_csv, val_image_dir)\n",
    "test_df = load_annotations(test_csv, test_image_dir)"
   ]
  },
  {
   "cell_type": "code",
   "execution_count": null,
   "metadata": {},
   "outputs": [],
   "source": [
    "# Preprocess datasets\n",
    "train_data = preprocess_data(train_df)\n",
    "val_data = preprocess_data(val_df)\n",
    "test_data = preprocess_data(test_df)\n"
   ]
  },
  {
   "cell_type": "code",
   "execution_count": null,
   "metadata": {},
   "outputs": [],
   "source": [
    "# Number of classes (you can modify based on your dataset)\n",
    "num_classes = train_df['class'].nunique()\n"
   ]
  },
  {
   "cell_type": "code",
   "execution_count": null,
   "metadata": {},
   "outputs": [],
   "source": [
    "# Train the model\n",
    "model = train_model(train_data, val_data, num_classes, epochs=5)"
   ]
  },
  {
   "cell_type": "code",
   "execution_count": null,
   "metadata": {},
   "outputs": [],
   "source": [
    "# Save the trained model\n",
    "model.save(\"fast_rcnn_model.h5\")"
   ]
  }
 ],
 "metadata": {
  "language_info": {
   "name": "python"
  }
 },
 "nbformat": 4,
 "nbformat_minor": 2
}
